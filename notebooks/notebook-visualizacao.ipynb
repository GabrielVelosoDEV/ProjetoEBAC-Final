{
 "cells": [
  {
   "cell_type": "markdown",
   "metadata": {},
   "source": [
    "# Análise de Dados Educacionais: ENEM 2022\n",
    "## Notebook 2: Análise Avançada e Visualizações\n",
    "\n",
    "Este notebook demonstra a análise avançada dos dados e a criação de visualizações para o projeto de análise do ENEM 2022."
   ]
  },
  {
   "cell_type": "code",
   "execution_count": null,
   "metadata": {},
   "source": [
    "# Importação das bibliotecas necessárias\n",
    "import pandas as pd\n",
    "import numpy as np\n",
    "import matplotlib.pyplot as plt\n",
    "import seaborn as sns\n",
    "import plotly.express as px\n",
    "import plotly.graph_objects as go\n",
    "from plotly.subplots import make_subplots\n",
    "import os\n",
    "\n",
    "# Configurações de visualização\n",
    "plt.style.use('seaborn-v0_8-whitegrid')\n",
    "sns.set(font_scale=1.2)\n",
    "pd.set_option('display.max_columns', None)"
   ]
  },
  {
   "cell_type": "markdown",
   "metadata": {},
   "source": [
    "## 1. Carregamento dos Dados Tratados\n",
    "\n",
    "Vamos carregar os dados tratados que foram salvos no notebook anterior."
   ]
  },
  {
   "cell_type": "code",
   "execution_count": null,
   "metadata": {},
   "source": [
    "# Definir caminho base\n",
    "BASE_PATH = r\"C:\\Users\\Administrator\\Videos\\projeto_final_enem\"\n",
    "\n",
    "# Carregar dados tratados\n",
    "enem_tratado = pd.read_csv(f'{BASE_PATH}\\dados_tratados\\enem_tratado.csv')\n",
    "censo_tratado = pd.read_csv(f'{BASE_PATH}\\dados_tratados\\censo_escolar_tratado.csv')\n",
    "municipios_tratado = pd.read_csv(f'{BASE_PATH}\\dados_tratados\\municipios_tratado.csv')\n",
    "dados_completos = pd.read_csv(f'{BASE_PATH}\\dados_tratados\\dados_completos.csv')\n",
    "\n",
    "print(f\"ENEM tratado: {enem_tratado.shape[0]} linhas e {enem_tratado.shape[1]} colunas\")\n",
    "print(f\"Censo Escolar tratado: {censo_tratado.shape[0]} linhas e {censo_tratado.shape[1]} colunas\")\n",
    "print(f\"Indicadores Municipais tratados: {municipios_tratado.shape[0]} linhas e {municipios_tratado.shape[1]} colunas\")\n",
    "print(f\"Dados completos: {dados_completos.shape[0]} linhas e {dados_completos.shape[1]} colunas\")"
   ]
  },
  {
   "cell_type": "markdown",
   "metadata": {},
   "source": [
    "## 2. Análise 1: Distribuição das Notas do ENEM\n",
    "\n",
    "Vamos analisar a distribuição das notas nas diferentes áreas de conhecimento."
   ]
  },
  {
   "cell_type": "code",
   "execution_count": null,
   "metadata": {},
   "source": [
    "# Criar pasta para salvar as visualizações, se não existir\n",
    "os.makedirs(f'{BASE_PATH}\\analises', exist_ok=True)\n",
    "\n",
    "# Análise da distribuição das notas\n",
    "plt.figure(figsize=(15, 10))\n",
    "\n",
    "notas_cols = ['NU_NOTA_CN', 'NU_NOTA_CH', 'NU_NOTA_LC', 'NU_NOTA_MT', 'NU_NOTA_REDACAO']\n",
    "areas_nomes = {\n",
    "    'NU_NOTA_CN': 'Ciências da Natureza',\n",
    "    'NU_NOTA_CH': 'Ciências Humanas',\n",
    "    'NU_NOTA_LC': 'Linguagens e Códigos',\n",
    "    'NU_NOTA_MT': 'Matemática',\n",
    "    'NU_NOTA_REDACAO': 'Redação'\n",
    "}\n",
    "\n",
    "for i, col in enumerate(notas_cols, 1):\n",
    "    plt.subplot(2, 3, i)\n",
    "    sns.histplot(enem_tratado[col], kde=True)\n",
    "    plt.title(f'Distribuição de {areas_nomes.get(col, col)}')\n",
    "    plt.xlabel('Nota')\n",
    "    plt.ylabel('Frequência')\n",
    "\n",
    "plt.subplot(2, 3, 6)\n",
    "sns.histplot(enem_tratado['MEDIA_NOTAS'], kde=True, color='purple')\n",
    "plt.title('Distribuição da Média das Notas')\n",
    "plt.xlabel('Média')\n",
    "plt.ylabel('Frequência')\n",
    "\n",
    "plt.tight_layout()\n",
    "plt.savefig(f'{BASE_PATH}\\analises\\distribuicao_notas.png', dpi=300)\n",
    "plt.show()"
   ]
  },
  {
   "cell_type": "markdown",
   "metadata": {},
   "source": [
    "### Interpretação:\n",
    "\n",
    "A distribuição das notas varia significativamente entre as diferentes áreas de conhecimento:\n",
    "\n",
    "- **Matemática (MT)**: Apresenta maior variabilidade, com uma distribuição mais ampla e um número significativo de notas baixas.\n",
    "- **Ciências da Natureza (CN)**: Distribuição ligeiramente assimétrica, com tendência para notas médias.\n",
    "- **Linguagens e Códigos (LC)**: Distribuição mais concentrada, indicando menor variabilidade entre os estudantes.\n",
    "- **Redação**: Distribuição multimodal, com picos em determinadas faixas de pontuação.\n",
    "- **Média Geral**: Apresenta uma distribuição aproximadamente normal, com maior concentração em torno da média."
   ]
  },
  {
   "cell_type": "markdown",
   "metadata": {},
   "source": [
    "## 3. Análise 2: Comparação de Notas por Gênero\n",
    "\n",
    "Vamos analisar as diferenças de desempenho entre os gêneros."
   ]
  },
  {
   "cell_type": "code",
   "execution_count": null,
   "metadata": {},
   "source": [
    "# Comparação de notas por gênero\n",
    "plt.figure(figsize=(15, 8))\n",
    "\n",
    "# Boxplot para média geral\n",
    "plt.subplot(1, 2, 1)\n",
    "sns.boxplot(x='TP_SEXO', y='MEDIA_NOTAS', data=enem_tratado)\n",
    "plt.title('Média das Notas por Gênero')\n",
    "plt.xlabel('Gênero (M=Masculino, F=Feminino)')\n",
    "plt.ylabel('Média das Notas')\n",
    "\n",
    "# Barplot para cada área\n",
    "plt.subplot(1, 2, 2)\n",
    "\n",
    "# Preparar os dados por gênero e área\n",
    "media_por_genero = enem_tratado.groupby('TP_SEXO')[notas_cols].mean().reset_index()\n",
    "media_por_genero_long = pd.melt(\n",
    "    media_por_genero,\n",
    "    id_vars=['TP_SEXO'],\n",
    "    value_vars=notas_cols,\n",
    "    var_name='Area',\n",
    "    value_name='Media'\n",
    ")\n",
    "media_por_genero_long['Area'] = media_por_genero_long['Area'].map(areas_nomes)\n",
    "\n",
    "# Criar o gráfico\n",
    "sns.barplot(x='Area', y='Media', hue='TP_SEXO', data=media_por_genero_long)\n",
    "plt.title('Média por Área de Conhecimento e Gênero')\n",
    "plt.xlabel('Área')\n",
    "plt.ylabel('Média das Notas')\n",
    "plt.xticks(rotation=45)\n",
    "plt.legend(title='Gênero')\n",
    "\n",
    "plt.tight_layout()\n",
    "plt.savefig(f'{BASE_PATH}\\analises\\notas_por_genero.png', dpi=300)\n",
    "plt.show()"
   ]
  },
  {
   "cell_type": "markdown",
   "metadata": {},
   "source": [
    "### Interpretação:\n",
    "\n",
    "A análise revela padrões interessantes nas diferenças de desempenho entre gêneros:\n",
    "\n",
    "- Em **Linguagens e Códigos** e **Redação**, estudantes do sexo feminino tendem a apresentar melhor desempenho.\n",
    "- Em **Matemática** e **Ciências da Natureza**, estudantes do sexo masculino apresentam uma ligeira vantagem.\n",
    "- Em **Ciências Humanas**, as diferenças são menos pronunciadas.\n",
    "- Na média geral, as diferenças são pequenas, sugerindo que cada gênero tende a se destacar em áreas específicas."
   ]
  },
  {
   "cell_type": "markdown",
   "metadata": {},
   "source": [
    "## 4. Análise 3: Correlação entre as Notas\n",
    "\n",
    "Vamos analisar a correlação entre as notas das diferentes áreas de conhecimento."
   ]
  },
  {
   "cell_type": "code",
   "execution_count": null,
   "metadata": {},
   "source": [
    "# Matriz de correlação entre as notas\n",
    "plt.figure(figsize=(10, 8))\n",
    "correlation_matrix = enem_tratado[notas_cols].corr()\n",
    "\n",
    "# Renomear os índices e colunas para nomes mais amigáveis\n",
    "correlation_matrix.index = [areas_nomes.get(col, col) for col in correlation_matrix.index]\n",
    "correlation_matrix.columns = [areas_nomes.get(col, col) for col in correlation_matrix.columns]\n",
    "\n",
    "# Criar o heatmap\n",
    "sns.heatmap(correlation_matrix, annot=True, cmap='coolwarm', linewidths=0.5, fmt='.2f')\n",
    "plt.title('Matriz de Correlação das Notas')\n",
    "plt.tight_layout()\n",
    "plt.savefig(f'{BASE_PATH}\\analises\\correlacao_notas.png', dpi=300)\n",
    "plt.show()"
   ]
  },
  {
   "cell_type": "markdown",
   "metadata": {},
   "source": [
    "### Interpretação:\n",
    "\n",
    "A matriz de correlação revela relações importantes entre as diferentes áreas de conhecimento:\n",
    "\n",
    "- Existe uma correlação positiva moderada a forte entre todas as áreas, indicando que estudantes que se saem bem em uma área tendem a se sair bem em outras.\n",
    "- A correlação mais forte é tipicamente entre **Linguagens e Códigos** e **Ciências Humanas**, sugerindo que habilidades de leitura e interpretação são importantes em ambas as áreas.\n",
    "- **Matemática** e **Ciências da Natureza** também apresentam correlação forte, refletindo a natureza quantitativa de ambas as áreas.\n",
    "- A **Redação** geralmente apresenta a correlação mais fraca com as demais áreas, indicando que envolve habilidades distintas."
   ]
  },
  {
   "cell_type": "markdown",
   "metadata": {},
   "source": [
    "## 5. Análise 4: Desempenho por Faixa Etária\n",
    "\n",
    "Vamos analisar como o desempenho varia de acordo com a faixa etária dos estudantes."
   ]
  },
  {
   "cell_type": "code",
   "execution_count": null,
   "metadata": {},
   "source": [
    "# Desempenho por faixa etária\n",
    "plt.figure(figsize=(12, 6))\n",
    "sns.barplot(x='FAIXA_ETARIA', y='MEDIA_NOTAS', data=enem_tratado)\n",
    "plt.title('Média das Notas por Faixa Etária')\n",
    "plt.xlabel('Faixa Etária')\n",
    "plt.ylabel('Média das Notas')\n",
    "plt.xticks(rotation=45)\n",
    "plt.tight_layout()\n",
    "plt.savefig(f'{BASE_PATH}\\analises\\media_por_faixa_etaria.png', dpi=300)\n",
    "plt.show()\n",
    "\n",
    "# Também vamos ver a média por área e faixa etária\n",
    "plt.figure(figsize=(15, 10))\n",
    "\n",
    "# Preparar os dados\n",
    "media_por_faixa_area = enem_tratado.groupby('FAIXA_ETARIA')[notas_cols].mean().reset_index()\n",
    "media_por_faixa_area_long = pd.melt(\n",
    "    media_por_faixa_area,\n",
    "    id_vars=['FAIXA_ETARIA'],\n",
    "    value_vars=notas_cols,\n",
    "    var_name='Area',\n",
    "    value_name='Media'\n",
    ")\n",
    "media_por_faixa_area_long['Area'] = media_por_faixa_area_long['Area'].map(areas_nomes)\n",
    "\n",
    "# Criar o gráfico\n",
    "sns.catplot(\n",
    "    x='FAIXA_ETARIA', \n",
    "    y='Media', \n",
    "    hue='Area', \n",
    "    data=media_por_faixa_area_long,\n",
    "    kind='point',\n",
    "    height=6,\n",
    "    aspect=1.5\n",
    ")\n",
    "plt.title('Média por Área de Conhecimento e Faixa Etária')\n",
    "plt.xlabel('Faixa Etária')\n",
    "plt.ylabel('Média das Notas')\n",
    "plt.xticks(rotation=45)\n",
    "plt.tight_layout()\n",
    "plt.savefig(f'{BASE_PATH}\\analises\\media_por_area_faixa_etaria.png', dpi=300)\n",
    "plt.show()"
   ]
  },
  {
   "cell_type": "markdown",
   "metadata": {},
   "source": [
    "### Interpretação:\n",
    "\n",
    "A análise do desempenho por faixa etária revela tendências importantes:\n",
    "\n",
    "- Estudantes na faixa etária de **18 a 20 anos** geralmente apresentam o melhor desempenho médio, possivelmente por estarem na idade típica de conclusão do ensino médio e bem preparados para o exame.\n",
    "- O desempenho tende a **diminuir com a idade**, particularmente nas faixas etárias acima de 25 anos, o que pode estar relacionado ao tempo decorrido desde a conclusão do ensino médio.\n",
    "- A queda no desempenho com a idade é mais acentuada em **Matemática** e **Ciências da Natureza**, sugerindo que conhecimentos nestas áreas são mais afetados pela falta de prática contínua.\n",
    "- Em **Redação**, a diferença entre faixas etárias é menos pronunciada, indicando que habilidades de escrita podem ser menos afetadas pelo tempo ou são mais desenvolvidas com a experiência de vida."
   ]
  },
  {
   "cell_type": "markdown",
   "metadata": {},
   "source": [
    "## 6. Análise 5: Infraestrutura Escolar e Desempenho\n",
    "\n",
    "Vamos analisar a relação entre a infraestrutura das escolas e o desempenho dos estudantes."
   ]
  },
  {
   "cell_type": "code",
   "execution_count": null,
   "metadata": {},
   "source": [
    "# Distribuição das escolas por nível de infraestrutura\n",
    "plt.figure(figsize=(10, 6))\n",
    "ax = sns.countplot(x='CATEGORIA_INFRAESTRUTURA', data=censo_tratado)\n",
    "\n",
    "# Adicionar os valores em cada barra\n",
    "for p in ax.patches:\n",
    "    ax.annotate(f'{int(p.get_height())}', \n",
    "                (p.get_x() + p.get_width() / 2., p.get_height()), \n",
    "                ha = 'center', va = 'bottom', \n",
    "                xytext = (0, 5), textcoords = 'offset points')\n",
    "\n",
    "plt.title('Distribuição das Escolas por Nível de Infraestrutura')\n",
    "plt.xlabel('Nível de Infraestrutura')\n",
    "plt.ylabel('Quantidade de Escolas')\n",
    "plt.tight_layout()\n",
    "plt.savefig(f'{BASE_PATH}\\analises\\distribuicao_infraestrutura.png', dpi=300)\n",
    "plt.show()\n",
    "\n",
    "# Relação entre infraestrutura e desempenho\n",
    "if 'CATEGORIA_INFRAESTRUTURA' in dados_completos.columns and 'MEDIA_NOTAS' in dados_completos.columns:\n",
    "    plt.figure(figsize=(12, 6))\n",
    "    \n",
    "    # Calcular média por categoria de infraestrutura\n",
    "    media_por_infra = dados_completos.groupby('CATEGORIA_INFRAESTRUTURA')['MEDIA_NOTAS'].mean().reset_index()\n",
    "    \n",
    "    # Criar o gráfico\n",
    "    sns.barplot(x='CATEGORIA_INFRAESTRUTURA', y='MEDIA_NOTAS', data=media_por_infra, palette='viridis')\n",
    "    plt.title('Média das Notas por Nível de Infraestrutura Escolar')\n",
    "    plt.xlabel('Nível de Infraestrutura')\n",
    "    plt.ylabel('Média das Notas')\n",
    "    plt.tight_layout()\n",
    "    plt.savefig(f'{BASE_PATH}\\analises\\media_por_infraestrutura.png', dpi=300)\n",
    "    plt.show()\n",
    "    \n",
    "    # Análise por tipo de escola e infraestrutura\n",
    "    plt.figure(figsize=(14, 7))\n",
    "    \n",
    "    # Calcular média por tipo de escola e categoria de infraestrutura\n",
    "    media_por_escola_infra = dados_completos.groupby(['TIPO_ESCOLA', 'CATEGORIA_INFRAESTRUTURA'])['MEDIA_NOTAS'].mean().reset_index()\n",
    "    \n",
    "    # Criar o gráfico\n",
    "    sns.barplot(x='CATEGORIA_INFRAESTRUTURA', y='MEDIA_NOTAS', hue='TIPO_ESCOLA', data=media_por_escola_infra, palette='Set2')\n",
    "    plt.title('Média das Notas por Nível de Infraestrutura e Tipo de Escola')\n",
    "    plt.xlabel('Nível de Infraestrutura')\n",
    "    plt.ylabel('Média das Notas')\n",
    "    plt.legend(title='Tipo de Escola')\n",
    "    plt.tight_layout()\n",
    "    plt.savefig(f'{BASE_PATH}\\analises\\media_por_infraestrutura_tipo_escola.png', dpi=300)\n",
    "    plt.show()"
   ]
  },
  {
   "cell_type": "markdown",
   "metadata": {},
   "source": [
    "### Interpretação:\n",
    "\n",
    "A análise da relação entre infraestrutura escolar e desempenho revela insights importantes:\n",
    "\n",
    "- Há uma **correlação positiva** entre o nível de infraestrutura escolar e o desempenho dos estudantes.\n",
    "- Escolas com infraestrutura classificada como \"Avançada\" estão associadas a notas médias significativamente mais altas comparadas às de infraestrutura \"Básica\".\n",
    "- A diferença de desempenho entre níveis de infraestrutura é mais pronunciada em **escolas públicas** do que em escolas privadas, sugerindo que a infraestrutura pode ser um fator mais crítico no setor público.\n",
    "- Em escolas privadas, mesmo aquelas com infraestrutura classificada como \"Básica\" ainda apresentam desempenho médio superior ao de muitas escolas públicas, indicando que outros fatores além da infraestrutura física também são importantes (como qualidade do ensino, recursos pedagógicos, perfil socioeconômico dos estudantes)."
   ]
  },
  {
   "cell_type": "markdown",
   "metadata": {},
   "source": [
    "## 7. Análise 6: IDH Municipal e Desempenho\n",
    "\n",
    "Vamos analisar a relação entre o IDH dos municípios e o desempenho dos estudantes."
   ]
  },
  {
   "cell_type": "code",
   "execution_count": null,
   "metadata": {},
   "source": [
    "# Relação entre IDH e média das notas\n",
    "plt.figure(figsize=(10, 6))\n",
    "sns.scatterplot(x='IDH', y='MEDIA_NOTAS', data=dados_completos, alpha=0.5)\n",
    "plt.title('Relação entre IDH Municipal e Média das Notas')\n",
    "plt.xlabel('IDH')\n",
    "plt.ylabel('Média das Notas')\n",
    "plt.tight_layout()\n",
    "plt.savefig(f'{BASE_PATH}\\analises\\idh_vs_media.png', dpi=300)\n",
    "plt.show()\n",
    "\n",
    "# Desempenho por categoria de IDH\n",
    "plt.figure(figsize=(12, 6))\n",
    "\n",
    "# Calcular média por categoria de IDH\n",
    "media_por_idh = dados_completos.groupby('CATEGORIA_IDH')['MEDIA_NOTAS'].mean().reset_index()\n",
    "\n",
    "# Ordenar as categorias de IDH\n",
    "ordem_idh = ['Muito baixo', 'Baixo', 'Médio', 'Alto', 'Muito alto']\n",
    "media_por_idh['CATEGORIA_IDH'] = pd.Categorical(media_por_idh['CATEGORIA_IDH'], categories=ordem_idh, ordered=True)\n",
    "media_por_idh = media_por_idh.sort_values('CATEGORIA_IDH')\n",
    "\n",
    "# Criar o gráfico\n",
    "sns.barplot(x='CATEGORIA_IDH', y='MEDIA_NOTAS', data=media_por_idh, palette='plasma')\n",
    "plt.title('Média das Notas por Categoria de IDH Municipal')\n",
    "plt.xlabel('Categoria de IDH')\n",
    "plt.ylabel('Média das Notas')\n",
    "plt.tight_layout()\n",
    "plt.savefig(f'{BASE_PATH}\\analises\\media_por_categoria_idh.png', dpi=300)\n",
    "plt.show()"
   ]
  },
  {
   "cell_type": "markdown",
   "metadata": {},
   "source": [
    "### Interpretação:\n",
    "\n",
    "A análise da relação entre IDH municipal e desempenho no ENEM revela padrões significativos:\n",
    "\n",
    "- Existe uma **correlação positiva** entre o IDH do município e o desempenho dos estudantes no ENEM.\n",
    "- Estudantes de municípios com IDH classificado como \"Muito alto\" apresentam, em média, desempenho significativamente superior aos de municípios com IDH \"Baixo\" ou \"Muito baixo\".\n",
    "- A progressão do desempenho médio acompanha a progressão das categorias de IDH, sugerindo uma relação consistente entre desenvolvimento humano municipal e resultados educacionais.\n",
    "- A dispersão dos pontos no gráfico de dispersão indica que, mesmo em municípios com IDH semelhante, há grande variabilidade no desempenho individual, sugerindo que fatores individuais e escolares também são importantes."
   ]
  },
  {
   "cell_type": "markdown",
   "metadata": {},
   "source": [
    "## 8. Criação de Visualizações para o Dashboard\n",
    "\n",
    "Vamos preparar os dados para o dashboard no Looker Studio."
   ]
  },
  {
   "cell_type": "code",
   "execution_count": null,
   "metadata": {},
   "source": [
    "# Criar pasta para o dashboard, se não existir\n",
    "os.makedirs(f'{BASE_PATH}\\dados_para_dashboard', exist_ok=True)\n",
    "\n",
    "# Selecionar colunas relevantes para o dashboard\n",
    "colunas_dashboard = [\n",
    "    # Dados do estudante\n",
    "    'NU_INSCRICAO', 'TP_SEXO', 'NU_IDADE', 'FAIXA_ETARIA',\n",
    "    # Localização\n",
    "    'SG_UF_RESIDENCIA', 'NO_MUNICIPIO_RESIDENCIA',\n",
    "    # Escola\n",
    "    'TP_ESCOLA', 'TIPO_ESCOLA', 'CO_ESCOLA',\n",
    "    # Notas\n",
    "    'NU_NOTA_CN', 'NU_NOTA_CH', 'NU_NOTA_LC', 'NU_NOTA_MT', 'NU_NOTA_REDACAO', 'MEDIA_NOTAS',\n",
    "    # Infraestrutura\n",
    "    'NIVEL_INFRAESTRUTURA', 'CATEGORIA_INFRAESTRUTURA',\n",
    "    # Dados do município\n",
    "    'IDH', 'CATEGORIA_IDH', 'PIB_PER_CAPITA'\n",
    "]\n",
    "\n",
    "# Filtrar apenas colunas que existem\n",
    "colunas_existentes = [col for col in colunas_dashboard if col in dados_completos.columns]\n",
    "dashboard_df = dados_completos[colunas_existentes].copy()\n",
    "\n",
    "# Salvar para o dashboard\n",
    "dashboard_df.to_csv(f'{BASE_PATH}\\dados_para_dashboard\\dados_dashboard.csv', index=False)\n",
    "\n",
    "print(\"Dados para o dashboard foram preparados e salvos com sucesso!\")\n",
    "print(f\"Arquivo salvo em: {BASE_PATH}\\dados_para_dashboard\\dados_dashboard.csv\")"
   ]
  },
  {
   "cell_type": "markdown",
   "metadata": {},
   "source": [
    "## 9. Resumo das Análises e Insights\n",
    "\n",
    "Após a análise abrangente dos dados do ENEM 2022, Censo Escolar e indicadores municipais, podemos destacar os seguintes insights principais:\n",
    "\n",
    "1. **Distribuição das notas**: As notas variam significativamente entre as diferentes áreas de conhecimento, com Matemática apresentando a maior variabilidade e Linguagens e Códigos a menor.\n",
    "\n",
    "2. **Diferenças por gênero**: Estudantes do sexo feminino tendem a se destacar em Linguagens, Códigos e Redação, enquanto estudantes do sexo masculino apresentam ligeira vantagem em Matemática e Ciências da Natureza.\n",
    "\n",
    "3. **Correlação entre áreas**: Existe correlação positiva entre todas as áreas, sendo mais forte entre Linguagens e Ciências Humanas e entre Matemática e Ciências da Natureza.\n",
    "\n",
    "4. **Faixa etária**: O desempenho é melhor na faixa de 18 a 20 anos, declinando nas faixas etárias mais elevadas, especialmente em Matemática e Ciências da Natureza.\n",
    "\n",
    "5. **Infraestrutura escolar**: Escolas com melhor infraestrutura estão associadas a melhores resultados, especialmente no setor público, onde a diferença é mais pronunciada.\n",
    "\n",
    "6. **IDH municipal**: Existe uma correlação positiva entre o IDH do município e o desempenho dos estudantes, com progressão clara do desempenho médio conforme aumenta a categoria de IDH.\n",
    "\n",
    "7. **Tipo de escola**: Estudantes de escolas privadas obtêm, em média, resultados superiores aos de escolas públicas, mesmo controlando por nível de infraestrutura.\n",
    "\n",
    "Estes insights sugerem que o desempenho no ENEM é influenciado por uma combinação de fatores individuais (gênero, idade), escolares (tipo de escola, infraestrutura) e socioeconômicos (IDH municipal). As políticas educacionais poderiam se beneficiar de abordagens multidimensionais que considerem estes diversos fatores para reduzir desigualdades e melhorar os resultados educacionais de forma ampla."
   ]
  }
 ],
 "metadata": {
  "kernelspec": {
   "display_name": "Python 3",
   "language": "python",
   "name": "python3"
  },
  "language_info": {
   "codemirror_mode": {
    "name": "ipython",
    "version": 3
   },
   "file_extension": ".py",
   "mimetype": "text/x-python",
   "name": "python",
   "nbconvert_exporter": "python",
   "pygments_lexer": "ipython3",
   "version": "3.8.10"
  }
 },
 "nbformat": 4,
 "nbformat_minor": 4
}
