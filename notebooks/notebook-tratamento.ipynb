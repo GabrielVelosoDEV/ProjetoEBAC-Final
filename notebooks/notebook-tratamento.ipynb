{
 "cells": [
  {
   "cell_type": "markdown",
   "metadata": {},
   "source": [
    "# Análise de Dados Educacionais: ENEM 2022\n",
    "## Notebook 1: Tratamento e Exploração de Dados\n",
    "\n",
    "Este notebook demonstra o processo de carregamento, limpeza e exploração inicial dos dados do ENEM 2022, Censo Escolar 2022 e indicadores municipais."
   ]
  },
  {
   "cell_type": "code",
   "execution_count": null,
   "metadata": {},
   "source": [
    "# Importação das bibliotecas necessárias\n",
    "import pandas as pd\n",
    "import numpy as np\n",
    "import matplotlib.pyplot as plt\n",
    "import seaborn as sns\n",
    "from datetime import datetime\n",
    "\n",
    "# Configurações de visualização\n",
    "plt.style.use('seaborn-v0_8-whitegrid')\n",
    "sns.set(font_scale=1.2)\n",
    "pd.set_option('display.max_columns', None)"
   ]
  },
  {
   "cell_type": "markdown",
   "metadata": {},
   "source": [
    "## 1. Carregamento dos Dados\n",
    "\n",
    "Vamos carregar os dados brutos do ENEM, Censo Escolar e indicadores municipais."
   ]
  },
  {
   "cell_type": "code",
   "execution_count": null,
   "metadata": {},
   "source": [
    "# Definir caminho base\n",
    "BASE_PATH = r\"C:\\Users\\Administrator\\Videos\\projeto_final_enem\"\n",
    "\n",
    "# Carregar dados do ENEM\n",
    "enem_df = pd.read_csv(f'{BASE_PATH}\\dados\\enem_2022_amostra.csv', sep=';')\n",
    "\n",
    "# Carregar dados do Censo Escolar\n",
    "censo_escolar_df = pd.read_csv(f'{BASE_PATH}\\dados\\censo_escolar_2022_amostra.csv', sep=';')\n",
    "\n",
    "# Carregar dados de indicadores municipais\n",
    "municipios_df = pd.read_csv(f'{BASE_PATH}\\dados\\indicadores_municipios.csv', sep=';')\n",
    "\n",
    "print(f\"ENEM: {enem_df.shape[0]} linhas e {enem_df.shape[1]} colunas\")\n",
    "print(f\"Censo Escolar: {censo_escolar_df.shape[0]} linhas e {censo_escolar_df.shape[1]} colunas\")\n",
    "print(f\"Indicadores Municipais: {municipios_df.shape[0]} linhas e {municipios_df.shape[1]} colunas\")"
   ]
  },
  {
   "cell_type": "markdown",
   "metadata": {},
   "source": [
    "## 2. Exploração Inicial dos Dados\n",
    "\n",
    "Vamos examinar as primeiras linhas de cada conjunto de dados e obter informações sobre suas estruturas."
   ]
  },
  {
   "cell_type": "code",
   "execution_count": null,
   "metadata": {},
   "source": [
    "# Explorar dados do ENEM\n",
    "print(\"===== Primeiras linhas do ENEM =====\")\n",
    "enem_df.head()"
   ]
  },
  {
   "cell_type": "code",
   "execution_count": null,
   "metadata": {},
   "source": [
    "# Informações sobre as colunas do ENEM\n",
    "print(\"===== Informações do ENEM =====\")\n",
    "enem_df.info()"
   ]
  },
  {
   "cell_type": "code",
   "execution_count": null,
   "metadata": {},
   "source": [
    "# Estatísticas descritivas do ENEM\n",
    "print(\"===== Estatísticas descritivas do ENEM =====\")\n",
    "enem_df.describe()"
   ]
  },
  {
   "cell_type": "code",
   "execution_count": null,
   "metadata": {},
   "source": [
    "# Explorar dados do Censo Escolar\n",
    "print(\"===== Primeiras linhas do Censo Escolar =====\")\n",
    "censo_escolar_df.head()"
   ]
  },
  {
   "cell_type": "code",
   "execution_count": null,
   "metadata": {},
   "source": [
    "# Explorar dados de indicadores municipais\n",
    "print(\"===== Primeiras linhas dos Indicadores Municipais =====\")\n",
    "municipios_df.head()"
   ]
  },
  {
   "cell_type": "markdown",
   "metadata": {},
   "source": [
    "## 3. Verificação de Valores Nulos\n",
    "\n",
    "Vamos verificar a presença de valores nulos em cada conjunto de dados."
   ]
  },
  {
   "cell_type": "code",
   "execution_count": null,
   "metadata": {},
   "source": [
    "# Verificar valores nulos no ENEM\n",
    "print(\"===== Valores nulos no ENEM =====\")\n",
    "enem_df.isnull().sum()"
   ]
  },
  {
   "cell_type": "code",
   "execution_count": null,
   "metadata": {},
   "source": [
    "# Verificar valores nulos no Censo Escolar\n",
    "print(\"===== Valores nulos no Censo Escolar =====\")\n",
    "censo_escolar_df.isnull().sum()"
   ]
  },
  {
   "cell_type": "code",
   "execution_count": null,
   "metadata": {},
   "source": [
    "# Verificar valores nulos nos Indicadores Municipais\n",
    "print(\"===== Valores nulos nos Indicadores Municipais =====\")\n",
    "municipios_df.isnull().sum()"
   ]
  },
  {
   "cell_type": "markdown",
   "metadata": {},
   "source": [
    "## 4. Tratamento dos Dados do ENEM\n",
    "\n",
    "Vamos realizar o tratamento dos dados do ENEM, incluindo a criação de colunas derivadas."
   ]
  },
  {
   "cell_type": "code",
   "execution_count": null,
   "metadata": {},
   "source": [
    "# Criar uma cópia para não modificar os dados originais\n",
    "enem_tratado = enem_df.copy()\n",
    "\n",
    "# Tratando valores nulos nas notas - substituir por zero os que não fizeram a prova\n",
    "notas_cols = [col for col in enem_tratado.columns if 'NOTA' in col]\n",
    "for col in notas_cols:\n",
    "    enem_tratado[col] = enem_tratado[col].fillna(0)\n",
    "\n",
    "# Criar coluna de média das notas\n",
    "enem_tratado['MEDIA_NOTAS'] = enem_tratado[['NU_NOTA_CN', 'NU_NOTA_CH', 'NU_NOTA_LC', 'NU_NOTA_MT']].mean(axis=1)\n",
    "\n",
    "# Criar coluna de faixa etária\n",
    "bins = [0, 17, 20, 25, 30, 100]\n",
    "labels = ['Até 17 anos', '18 a 20 anos', '21 a 25 anos', '26 a 30 anos', 'Acima de 30 anos']\n",
    "enem_tratado['FAIXA_ETARIA'] = pd.cut(enem_tratado['NU_IDADE'], bins=bins, labels=labels)\n",
    "\n",
    "# Mapear tipo de escola para texto\n",
    "enem_tratado['TIPO_ESCOLA'] = enem_tratado['TP_ESCOLA'].map({1: 'Pública', 2: 'Privada'})\n",
    "\n",
    "# Verificar as novas colunas\n",
    "print(\"===== Dados do ENEM após tratamento =====\")\n",
    "enem_tratado[['NU_INSCRICAO', 'TP_SEXO', 'NU_IDADE', 'FAIXA_ETARIA', 'TIPO_ESCOLA', 'MEDIA_NOTAS']].head()"
   ]
  },
  {
   "cell_type": "markdown",
   "metadata": {},
   "source": [
    "## 5. Tratamento dos Dados do Censo Escolar\n",
    "\n",
    "Vamos realizar o tratamento dos dados do Censo Escolar, incluindo a criação de índices de infraestrutura."
   ]
  },
  {
   "cell_type": "code",
   "execution_count": null,
   "metadata": {},
   "source": [
    "# Criar uma cópia para não modificar os dados originais\n",
    "censo_tratado = censo_escolar_df.copy()\n",
    "\n",
    "# Filtrar apenas escolas de Ensino Médio\n",
    "censo_tratado = censo_tratado[censo_tratado['IN_ENSINO_MEDIO'] == 1]\n",
    "\n",
    "# Criar coluna com indicador de infraestrutura\n",
    "infra_cols = ['IN_BIBLIOTECA', 'IN_LABORATORIO_INFORMATICA', 'IN_LABORATORIO_CIENCIAS',\n",
    "             'IN_QUADRA_ESPORTES', 'IN_SALA_ATENDIMENTO_ESPECIAL', 'IN_INTERNET']\n",
    "censo_tratado['NIVEL_INFRAESTRUTURA'] = censo_tratado[infra_cols].sum(axis=1)\n",
    "\n",
    "# Categorizar o nível de infraestrutura\n",
    "bins_infra = [-1, 2, 4, 6]\n",
    "labels_infra = ['Básica', 'Intermediária', 'Avançada']\n",
    "censo_tratado['CATEGORIA_INFRAESTRUTURA'] = pd.cut(censo_tratado['NIVEL_INFRAESTRUTURA'], \n",
    "                                                 bins=bins_infra, labels=labels_infra)\n",
    "\n",
    "# Verificar as novas colunas\n",
    "print(\"===== Dados do Censo Escolar após tratamento =====\")\n",
    "censo_tratado[['CO_ENTIDADE', 'NO_ENTIDADE', 'NIVEL_INFRAESTRUTURA', 'CATEGORIA_INFRAESTRUTURA']].head()"
   ]
  },
  {
   "cell_type": "markdown",
   "metadata": {},
   "source": [
    "## 6. Tratamento dos Dados de Indicadores Municipais\n",
    "\n",
    "Vamos realizar o tratamento dos dados de indicadores municipais, incluindo a categorização do IDH."
   ]
  },
  {
   "cell_type": "code",
   "execution_count": null,
   "metadata": {},
   "source": [
    "# Criar uma cópia para não modificar os dados originais\n",
    "municipios_tratado = municipios_df.copy()\n",
    "\n",
    "# Criar coluna de categorização do IDH\n",
    "bins_idh = [0, 0.5, 0.6, 0.7, 0.8, 1.0]\n",
    "labels_idh = ['Muito baixo', 'Baixo', 'Médio', 'Alto', 'Muito alto']\n",
    "municipios_tratado['CATEGORIA_IDH'] = pd.cut(municipios_tratado['IDH'], bins=bins_idh, labels=labels_idh)\n",
    "\n",
    "# Verificar as novas colunas\n",
    "print(\"===== Dados dos Indicadores Municipais após tratamento =====\")\n",
    "municipios_tratado[['CODIGO_IBGE', 'NOME_MUNICIPIO', 'IDH', 'CATEGORIA_IDH']].head()"
   ]
  },
  {
   "cell_type": "markdown",
   "metadata": {},
   "source": [
    "## 7. Mesclando os Dados\n",
    "\n",
    "Vamos mesclar os três conjuntos de dados para análises integradas."
   ]
  },
  {
   "cell_type": "code",
   "execution_count": null,
   "metadata": {},
   "source": [
    "# Mesclar ENEM com dados municipais\n",
    "print(\"===== Mesclando ENEM com Indicadores Municipais =====\")\n",
    "enem_municipios = pd.merge(\n",
    "    enem_tratado, \n",
    "    municipios_tratado,\n",
    "    left_on='CO_MUNICIPIO_RESIDENCIA',\n",
    "    right_on='CODIGO_IBGE',\n",
    "    how='left'\n",
    ")\n",
    "\n",
    "print(f\"Resultado: {enem_municipios.shape[0]} linhas e {enem_municipios.shape[1]} colunas\")\n",
    "\n",
    "# Mesclar com dados do Censo Escolar\n",
    "print(\"\\n===== Mesclando com Censo Escolar =====\")\n",
    "dados_completos = pd.merge(\n",
    "    enem_municipios,\n",
    "    censo_tratado,\n",
    "    left_on='CO_ESCOLA',\n",
    "    right_on='CO_ENTIDADE',\n",
    "    how='left'\n",
    ")\n",
    "\n",
    "print(f\"Resultado final: {dados_completos.shape[0]} linhas e {dados_completos.shape[1]} colunas\")\n",
    "\n",
    "# Verificar as primeiras linhas do conjunto de dados mesclado\n",
    "dados_completos.head()"
   ]
  },
  {
   "cell_type": "markdown",
   "metadata": {},
   "source": [
    "## 8. Salvando os Dados Tratados\n",
    "\n",
    "Vamos salvar os conjuntos de dados tratados para uso posterior."
   ]
  },
  {
   "cell_type": "code",
   "execution_count": null,
   "metadata": {},
   "source": [
    "# Salvar dados tratados\n",
    "enem_tratado.to_csv(f'{BASE_PATH}\\dados_tratados\\enem_tratado.csv', index=False)\n",
    "censo_tratado.to_csv(f'{BASE_PATH}\\dados_tratados\\censo_escolar_tratado.csv', index=False)\n",
    "municipios_tratado.to_csv(f'{BASE_PATH}\\dados_tratados\\municipios_tratado.csv', index=False)\n",
    "dados_completos.to_csv(f'{BASE_PATH}\\dados_tratados\\dados_completos.csv', index=False)\n",
    "\n",
    "print(\"Todos os dados tratados foram salvos com sucesso!\")"
   ]
  },
  {
   "cell_type": "markdown",
   "metadata": {},
   "source": [
    "## 9. Resumo e Próximos Passos\n",
    "\n",
    "Neste notebook, realizamos o carregamento, exploração e tratamento dos dados do ENEM 2022, Censo Escolar 2022 e indicadores municipais. Criamos diversas colunas derivadas, incluindo média das notas, faixa etária, nível de infraestrutura e categoria de IDH. Também mesclamos os dados para análises integradas.\n",
    "\n",
    "No próximo notebook, realizaremos análises mais aprofundadas e criaremos visualizações para identificar padrões e tendências nos dados."
   ]
  }
 ],
 "metadata": {
  "kernelspec": {
   "display_name": "Python 3",
   "language": "python",
   "name": "python3"
  },
  "language_info": {
   "codemirror_mode": {
    "name": "ipython",
    "version": 3
   },
   "file_extension": ".py",
   "mimetype": "text/x-python",
   "name": "python",
   "nbconvert_exporter": "python",
   "pygments_lexer": "ipython3",
   "version": "3.8.10"
  }
 },
 "nbformat": 4,
 "nbformat_minor": 4
}
